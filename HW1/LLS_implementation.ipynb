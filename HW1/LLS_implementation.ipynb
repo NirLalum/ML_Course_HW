{
 "cells": [
  {
   "cell_type": "markdown",
   "metadata": {
    "id": "q6rREbtqFEt5"
   },
   "source": [
    "# Assignment 1 - Linear Least Squares (LLS)"
   ]
  },
  {
   "cell_type": "markdown",
   "metadata": {
    "id": "gIGzqjhIFEt_"
   },
   "source": [
    "## Intro\n",
    "\n",
    "The hands-on assignments (תרגילים רטובים) in this course will be given in python using a free online platform provided by google called Colab. If you need an introduction to this platform please go over assignment 0.\n",
    "\n",
    "### Making your own copy of the notebook\n",
    "\n",
    "Start by making your own copy of this notebook by pressing the \"Copy to drive\" button at the top area of the this page.  Make sure that the logo at the top of the page changes to Google's drive icon: ![](https://ssl.gstatic.com/images/branding/product/1x/drive_2020q4_32dp.png)\n",
    "\n",
    "### Expending all cells\n",
    "\n",
    "When you open a new notebook some sections might be hidden (collapsed), showing only the title of the section with a \"↳ # cells hidden\" note beneath it. Before you start, make show you expand all the sections. You can do so by pressing **Ctrl+[** or by clicking on all the \"↳ # cells hidden\" lines.\n",
    "\n",
    "### ✍️ Your assignments\n",
    "\n",
    "In these assignments, you will have to follow the instruction in the notebooks and fill in the missing code blocks according to the instructions. The cells containing the instructions will be marked with ✍️. The line of code which you will be expected to fill in will be surrounded by the two following comments:\n",
    "\n",
    "\n",
    "``` python\n",
    "## %%%%%%%%%%%%%%% Your code here - Begin %%%%%%%%%%%%%%%\n",
    "\n",
    "## %%%%%%%%%%%%%%% Your code here - End %%%%%%%%%%%%%%%%%\n",
    "```\n",
    "\n",
    "After filling in all the missing code you will have to download the note book and submit it through the Moodle page. The instructions for downloading the notebook appear at the end of this notebook.\n",
    "\n",
    "### Your IDs\n",
    "\n",
    "✍️ Fill in your IDs in the cell below:"
   ]
  },
  {
   "cell_type": "code",
   "execution_count": null,
   "metadata": {
    "id": "ARd63kq1FEuB"
   },
   "outputs": [],
   "source": [
    "## %%%%%%%%%%%%%%% Your code here - Begin %%%%%%%%%%%%%%%\n",
    "## Fill in your IDs (as a string)\n",
    "student1_id = '...'\n",
    "student2_id = '...'\n",
    "## %%%%%%%%%%%%%%% Your code here - End %%%%%%%%%%%%%%%%%\n",
    "\n",
    "print('Hello ' + student1_id + ' & ' + student2_id)"
   ]
  },
  {
   "cell_type": "markdown",
   "metadata": {
    "id": "DjGTOtlzFEuC"
   },
   "source": [
    "### Importing Packages\n",
    "\n",
    "We will start by importing the packages which we will be using in this assignment."
   ]
  },
  {
   "cell_type": "code",
   "execution_count": 1,
   "metadata": {
    "id": "s5fM_q0kFEuD"
   },
   "outputs": [],
   "source": [
    "import numpy as np  # Numerical package (mainly multi-dimensional arrays and linear algebra)\n",
    "import pandas as pd  # A package for working with data frames\n",
    "import matplotlib.pyplot as plt  # A plotting package\n",
    "\n",
    "## Setup matplotlib to output figures into the notebook\n",
    "%matplotlib inline\n",
    "\n",
    "## Set some default values of the the matplotlib plots\n",
    "plt.rcParams['figure.figsize'] = (6.0, 6.0)  # Set default plot's sizes\n",
    "plt.rcParams['figure.dpi'] = 120  # Set default plot's dpi (increase fonts' size)\n",
    "plt.rcParams['axes.grid'] = True  # Show grid by default in figures"
   ]
  },
  {
   "cell_type": "markdown",
   "metadata": {
    "id": "iWRDUDkwFEuD"
   },
   "source": [
    "## The pandas package\n",
    "\n",
    "A great and very popular package for working with dataset in Python is the [pandas package](https://pandas.pydata.org/), which we have imported in the above code cell.\n",
    "\n",
    "The main type of object in pandas is the *DataFrame*. The data frame is basically 2D Mumpy arrays with extended capabilities such as:\n",
    "\n",
    "- The ability to give names to columns \\ rows.\n",
    "- Advance manipulation such as: grouping, querying etc. handing missing data.\n",
    "- Predefined plotting function.\n",
    "- Nice integration with notebooks (such as this one) viewing the array as a nice table\n",
    "\n",
    "In this course we will mostly be using this package to load our dataset and then extract the relevant data form them as a Numpy array.\n",
    "\n",
    "If you are interested in learning more about pandas you can look at the [10 minutes to pandas](https://pandas.pydata.org/docs/user_guide/10min.html) page or go through the [full official tutorial](https://pandas.pydata.org/docs/getting_started/index.html)"
   ]
  },
  {
   "cell_type": "markdown",
   "metadata": {
    "id": "1ero5yl6FEuF"
   },
   "source": [
    "As a very short introduction to working with pandas DataFrames we will give a few quick examples.\n",
    "\n",
    "(**Reminder**: when running a cell, the output of the last line in the cell is presented below the cell as the output of the cell)\n",
    "\n",
    "1. The following code wraps a 5 by 5 random array (with integers between 0 and 10) with a DataFrame"
   ]
  },
  {
   "cell_type": "code",
   "execution_count": 2,
   "metadata": {
    "colab": {
     "base_uri": "https://localhost:8080/",
     "height": 206
    },
    "id": "zilSKhp-FEuH",
    "outputId": "2e6c8416-c3a5-4119-a6b4-03db96db333c"
   },
   "outputs": [
    {
     "data": {
      "text/html": [
       "<div>\n",
       "<style scoped>\n",
       "    .dataframe tbody tr th:only-of-type {\n",
       "        vertical-align: middle;\n",
       "    }\n",
       "\n",
       "    .dataframe tbody tr th {\n",
       "        vertical-align: top;\n",
       "    }\n",
       "\n",
       "    .dataframe thead th {\n",
       "        text-align: right;\n",
       "    }\n",
       "</style>\n",
       "<table border=\"1\" class=\"dataframe\">\n",
       "  <thead>\n",
       "    <tr style=\"text-align: right;\">\n",
       "      <th></th>\n",
       "      <th>0</th>\n",
       "      <th>1</th>\n",
       "      <th>2</th>\n",
       "      <th>3</th>\n",
       "      <th>4</th>\n",
       "    </tr>\n",
       "  </thead>\n",
       "  <tbody>\n",
       "    <tr>\n",
       "      <th>0</th>\n",
       "      <td>3</td>\n",
       "      <td>5</td>\n",
       "      <td>1</td>\n",
       "      <td>7</td>\n",
       "      <td>6</td>\n",
       "    </tr>\n",
       "    <tr>\n",
       "      <th>1</th>\n",
       "      <td>9</td>\n",
       "      <td>3</td>\n",
       "      <td>7</td>\n",
       "      <td>1</td>\n",
       "      <td>0</td>\n",
       "    </tr>\n",
       "    <tr>\n",
       "      <th>2</th>\n",
       "      <td>4</td>\n",
       "      <td>4</td>\n",
       "      <td>6</td>\n",
       "      <td>1</td>\n",
       "      <td>8</td>\n",
       "    </tr>\n",
       "    <tr>\n",
       "      <th>3</th>\n",
       "      <td>5</td>\n",
       "      <td>0</td>\n",
       "      <td>9</td>\n",
       "      <td>5</td>\n",
       "      <td>2</td>\n",
       "    </tr>\n",
       "    <tr>\n",
       "      <th>4</th>\n",
       "      <td>9</td>\n",
       "      <td>7</td>\n",
       "      <td>3</td>\n",
       "      <td>0</td>\n",
       "      <td>7</td>\n",
       "    </tr>\n",
       "  </tbody>\n",
       "</table>\n",
       "</div>"
      ],
      "text/plain": [
       "   0  1  2  3  4\n",
       "0  3  5  1  7  6\n",
       "1  9  3  7  1  0\n",
       "2  4  4  6  1  8\n",
       "3  5  0  9  5  2\n",
       "4  9  7  3  0  7"
      ]
     },
     "execution_count": 2,
     "metadata": {},
     "output_type": "execute_result"
    }
   ],
   "source": [
    "df = pd.DataFrame(np.random.randint(0, 10, (5, 5)))\n",
    "df"
   ]
  },
  {
   "cell_type": "markdown",
   "metadata": {
    "id": "0t_v63aJFEuH"
   },
   "source": [
    "2. We can also give each column a name:"
   ]
  },
  {
   "cell_type": "code",
   "execution_count": 3,
   "metadata": {
    "colab": {
     "base_uri": "https://localhost:8080/",
     "height": 206
    },
    "id": "CfykFDJaFEuI",
    "outputId": "904771ab-efe0-441a-b5e9-bd1e6940de9c"
   },
   "outputs": [
    {
     "data": {
      "text/html": [
       "<div>\n",
       "<style scoped>\n",
       "    .dataframe tbody tr th:only-of-type {\n",
       "        vertical-align: middle;\n",
       "    }\n",
       "\n",
       "    .dataframe tbody tr th {\n",
       "        vertical-align: top;\n",
       "    }\n",
       "\n",
       "    .dataframe thead th {\n",
       "        text-align: right;\n",
       "    }\n",
       "</style>\n",
       "<table border=\"1\" class=\"dataframe\">\n",
       "  <thead>\n",
       "    <tr style=\"text-align: right;\">\n",
       "      <th></th>\n",
       "      <th>field 1</th>\n",
       "      <th>field 2</th>\n",
       "      <th>field 3</th>\n",
       "      <th>field 4</th>\n",
       "      <th>field 5</th>\n",
       "    </tr>\n",
       "  </thead>\n",
       "  <tbody>\n",
       "    <tr>\n",
       "      <th>0</th>\n",
       "      <td>4</td>\n",
       "      <td>6</td>\n",
       "      <td>6</td>\n",
       "      <td>0</td>\n",
       "      <td>4</td>\n",
       "    </tr>\n",
       "    <tr>\n",
       "      <th>1</th>\n",
       "      <td>7</td>\n",
       "      <td>8</td>\n",
       "      <td>8</td>\n",
       "      <td>6</td>\n",
       "      <td>3</td>\n",
       "    </tr>\n",
       "    <tr>\n",
       "      <th>2</th>\n",
       "      <td>8</td>\n",
       "      <td>1</td>\n",
       "      <td>3</td>\n",
       "      <td>7</td>\n",
       "      <td>7</td>\n",
       "    </tr>\n",
       "    <tr>\n",
       "      <th>3</th>\n",
       "      <td>5</td>\n",
       "      <td>0</td>\n",
       "      <td>7</td>\n",
       "      <td>2</td>\n",
       "      <td>0</td>\n",
       "    </tr>\n",
       "    <tr>\n",
       "      <th>4</th>\n",
       "      <td>4</td>\n",
       "      <td>0</td>\n",
       "      <td>7</td>\n",
       "      <td>6</td>\n",
       "      <td>1</td>\n",
       "    </tr>\n",
       "  </tbody>\n",
       "</table>\n",
       "</div>"
      ],
      "text/plain": [
       "   field 1  field 2  field 3  field 4  field 5\n",
       "0        4        6        6        0        4\n",
       "1        7        8        8        6        3\n",
       "2        8        1        3        7        7\n",
       "3        5        0        7        2        0\n",
       "4        4        0        7        6        1"
      ]
     },
     "execution_count": 3,
     "metadata": {},
     "output_type": "execute_result"
    }
   ],
   "source": [
    "df = pd.DataFrame(np.random.randint(0, 10, (5, 5)), columns=['field 1', 'field 2', 'field 3', 'field 4', 'field 5'])\n",
    "df"
   ]
  },
  {
   "cell_type": "markdown",
   "metadata": {
    "id": "kmHDrkbJFEuI"
   },
   "source": [
    "3. To extract a specific columns we can address it by it's name:"
   ]
  },
  {
   "cell_type": "code",
   "execution_count": 4,
   "metadata": {
    "colab": {
     "base_uri": "https://localhost:8080/"
    },
    "id": "zgCV8uidFEuJ",
    "outputId": "e6648fe7-824c-4371-83dd-1f8ef0bb2538"
   },
   "outputs": [
    {
     "name": "stdout",
     "output_type": "stream",
     "text": [
      "The column of \"field 3\" is:\n"
     ]
    },
    {
     "data": {
      "text/plain": [
       "0    6\n",
       "1    8\n",
       "2    3\n",
       "3    7\n",
       "4    7\n",
       "Name: field 3, dtype: int64"
      ]
     },
     "execution_count": 4,
     "metadata": {},
     "output_type": "execute_result"
    }
   ],
   "source": [
    "print('The column of \"field 3\" is:')\n",
    "df['field 3']"
   ]
  },
  {
   "cell_type": "markdown",
   "metadata": {
    "id": "By4MI7pWFEuJ"
   },
   "source": [
    "4. To convert a column / DataFrame to a Numpy array we can use the \".value\" attribute:"
   ]
  },
  {
   "cell_type": "code",
   "execution_count": 5,
   "metadata": {
    "colab": {
     "base_uri": "https://localhost:8080/"
    },
    "id": "5566wxWHFEuK",
    "outputId": "951769e0-1b5d-482b-cd5d-8fce26e8846e"
   },
   "outputs": [
    {
     "data": {
      "text/plain": [
       "array([6, 8, 3, 7, 7])"
      ]
     },
     "execution_count": 5,
     "metadata": {},
     "output_type": "execute_result"
    }
   ],
   "source": [
    "df['field 3'].values"
   ]
  },
  {
   "cell_type": "markdown",
   "metadata": {
    "id": "Mg-oLqNPFEuK"
   },
   "source": [
    "## Seoul Bike Sharing Demand Dataset\n",
    "\n",
    "In this assignment we will be looking at the data from an automatic bike rental service (similar to \"תל-אופן\") which operates in the city of Seoul. The dataset which we will be working with has been collected for every hour of the day over a period of one year. For each hour the dataset contains the number of bikes rented along with a few weather indicator such as the temperature, the wind speed and the amount of rain.\n",
    "\n",
    "In this assignment we will try to predict the number of the bikes which are going to be rented based on the day of the week, the hour of the data and the weather. We shall use RMSE cost as our cost function.\n",
    "\n",
    "This dataset has been made available by the [UCI's (University of California, Irvine) Center for Machine Learning and Intelligent Systems](http://archive.ics.uci.edu/ml/index.php). The project's official site along with the dataset can be found [here](http://archive.ics.uci.edu/ml/datasets/Seoul+Bike+Sharing+Demand).\n",
    "\n",
    "We will work with a slightly modified version of this dataset, which can be found [here](https://technion046195.netlify.app/datasets/bike_demand.csv)."
   ]
  },
  {
   "cell_type": "markdown",
   "metadata": {
    "id": "3yPrNhjnFEuL"
   },
   "source": [
    "### Loading the dataset\n",
    "\n",
    "We shall start by loading the dataset. The dataset is stored as an [CSV file](https://en.wikipedia.org/wiki/Comma-separated_values). The \"read_csv\" function in the pandas package reads a CSV file into a DataFrame (even for a remote location on the web)"
   ]
  },
  {
   "cell_type": "code",
   "execution_count": 6,
   "metadata": {
    "id": "_KN6JGsnFEuL"
   },
   "outputs": [],
   "source": [
    "dataset_location = 'https://technion046195.netlify.app/datasets/bike_demand.csv'\n",
    "\n",
    "## Loading the data\n",
    "dataset = pd.read_csv(dataset_location)"
   ]
  },
  {
   "cell_type": "markdown",
   "metadata": {
    "id": "djb8j2IrFEuL"
   },
   "source": [
    "Lets look at the dataset:"
   ]
  },
  {
   "cell_type": "code",
   "execution_count": 7,
   "metadata": {
    "colab": {
     "base_uri": "https://localhost:8080/",
     "height": 441
    },
    "id": "6FgbmWStFEuM",
    "outputId": "061e46a5-656a-47b4-b98c-6ab841022519"
   },
   "outputs": [
    {
     "data": {
      "text/html": [
       "<div>\n",
       "<style scoped>\n",
       "    .dataframe tbody tr th:only-of-type {\n",
       "        vertical-align: middle;\n",
       "    }\n",
       "\n",
       "    .dataframe tbody tr th {\n",
       "        vertical-align: top;\n",
       "    }\n",
       "\n",
       "    .dataframe thead th {\n",
       "        text-align: right;\n",
       "    }\n",
       "</style>\n",
       "<table border=\"1\" class=\"dataframe\">\n",
       "  <thead>\n",
       "    <tr style=\"text-align: right;\">\n",
       "      <th></th>\n",
       "      <th>Date</th>\n",
       "      <th>Rented Bike Count</th>\n",
       "      <th>Hour</th>\n",
       "      <th>Temperature(°C)</th>\n",
       "      <th>Humidity(%)</th>\n",
       "      <th>Wind speed (m/s)</th>\n",
       "      <th>Visibility (10m)</th>\n",
       "      <th>Solar Radiation (MJ/m2)</th>\n",
       "      <th>Rainfall(mm)</th>\n",
       "      <th>Snowfall (cm)</th>\n",
       "      <th>Day of the week</th>\n",
       "    </tr>\n",
       "  </thead>\n",
       "  <tbody>\n",
       "    <tr>\n",
       "      <th>0</th>\n",
       "      <td>01/12/2017</td>\n",
       "      <td>254</td>\n",
       "      <td>0</td>\n",
       "      <td>-5.2</td>\n",
       "      <td>37</td>\n",
       "      <td>2.2</td>\n",
       "      <td>2000</td>\n",
       "      <td>0.0</td>\n",
       "      <td>0.0</td>\n",
       "      <td>0.0</td>\n",
       "      <td>4</td>\n",
       "    </tr>\n",
       "    <tr>\n",
       "      <th>1</th>\n",
       "      <td>01/12/2017</td>\n",
       "      <td>204</td>\n",
       "      <td>1</td>\n",
       "      <td>-5.5</td>\n",
       "      <td>38</td>\n",
       "      <td>0.8</td>\n",
       "      <td>2000</td>\n",
       "      <td>0.0</td>\n",
       "      <td>0.0</td>\n",
       "      <td>0.0</td>\n",
       "      <td>4</td>\n",
       "    </tr>\n",
       "    <tr>\n",
       "      <th>2</th>\n",
       "      <td>01/12/2017</td>\n",
       "      <td>173</td>\n",
       "      <td>2</td>\n",
       "      <td>-6.0</td>\n",
       "      <td>39</td>\n",
       "      <td>1.0</td>\n",
       "      <td>2000</td>\n",
       "      <td>0.0</td>\n",
       "      <td>0.0</td>\n",
       "      <td>0.0</td>\n",
       "      <td>4</td>\n",
       "    </tr>\n",
       "    <tr>\n",
       "      <th>3</th>\n",
       "      <td>01/12/2017</td>\n",
       "      <td>107</td>\n",
       "      <td>3</td>\n",
       "      <td>-6.2</td>\n",
       "      <td>40</td>\n",
       "      <td>0.9</td>\n",
       "      <td>2000</td>\n",
       "      <td>0.0</td>\n",
       "      <td>0.0</td>\n",
       "      <td>0.0</td>\n",
       "      <td>4</td>\n",
       "    </tr>\n",
       "    <tr>\n",
       "      <th>4</th>\n",
       "      <td>01/12/2017</td>\n",
       "      <td>78</td>\n",
       "      <td>4</td>\n",
       "      <td>-6.0</td>\n",
       "      <td>36</td>\n",
       "      <td>2.3</td>\n",
       "      <td>2000</td>\n",
       "      <td>0.0</td>\n",
       "      <td>0.0</td>\n",
       "      <td>0.0</td>\n",
       "      <td>4</td>\n",
       "    </tr>\n",
       "    <tr>\n",
       "      <th>...</th>\n",
       "      <td>...</td>\n",
       "      <td>...</td>\n",
       "      <td>...</td>\n",
       "      <td>...</td>\n",
       "      <td>...</td>\n",
       "      <td>...</td>\n",
       "      <td>...</td>\n",
       "      <td>...</td>\n",
       "      <td>...</td>\n",
       "      <td>...</td>\n",
       "      <td>...</td>\n",
       "    </tr>\n",
       "    <tr>\n",
       "      <th>8052</th>\n",
       "      <td>30/11/2018</td>\n",
       "      <td>1003</td>\n",
       "      <td>19</td>\n",
       "      <td>4.2</td>\n",
       "      <td>34</td>\n",
       "      <td>2.6</td>\n",
       "      <td>1894</td>\n",
       "      <td>0.0</td>\n",
       "      <td>0.0</td>\n",
       "      <td>0.0</td>\n",
       "      <td>4</td>\n",
       "    </tr>\n",
       "    <tr>\n",
       "      <th>8053</th>\n",
       "      <td>30/11/2018</td>\n",
       "      <td>764</td>\n",
       "      <td>20</td>\n",
       "      <td>3.4</td>\n",
       "      <td>37</td>\n",
       "      <td>2.3</td>\n",
       "      <td>2000</td>\n",
       "      <td>0.0</td>\n",
       "      <td>0.0</td>\n",
       "      <td>0.0</td>\n",
       "      <td>4</td>\n",
       "    </tr>\n",
       "    <tr>\n",
       "      <th>8054</th>\n",
       "      <td>30/11/2018</td>\n",
       "      <td>694</td>\n",
       "      <td>21</td>\n",
       "      <td>2.6</td>\n",
       "      <td>39</td>\n",
       "      <td>0.3</td>\n",
       "      <td>1968</td>\n",
       "      <td>0.0</td>\n",
       "      <td>0.0</td>\n",
       "      <td>0.0</td>\n",
       "      <td>4</td>\n",
       "    </tr>\n",
       "    <tr>\n",
       "      <th>8055</th>\n",
       "      <td>30/11/2018</td>\n",
       "      <td>712</td>\n",
       "      <td>22</td>\n",
       "      <td>2.1</td>\n",
       "      <td>41</td>\n",
       "      <td>1.0</td>\n",
       "      <td>1859</td>\n",
       "      <td>0.0</td>\n",
       "      <td>0.0</td>\n",
       "      <td>0.0</td>\n",
       "      <td>4</td>\n",
       "    </tr>\n",
       "    <tr>\n",
       "      <th>8056</th>\n",
       "      <td>30/11/2018</td>\n",
       "      <td>584</td>\n",
       "      <td>23</td>\n",
       "      <td>1.9</td>\n",
       "      <td>43</td>\n",
       "      <td>1.3</td>\n",
       "      <td>1909</td>\n",
       "      <td>0.0</td>\n",
       "      <td>0.0</td>\n",
       "      <td>0.0</td>\n",
       "      <td>4</td>\n",
       "    </tr>\n",
       "  </tbody>\n",
       "</table>\n",
       "<p>8057 rows × 11 columns</p>\n",
       "</div>"
      ],
      "text/plain": [
       "            Date  Rented Bike Count  ...  Snowfall (cm)  Day of the week\n",
       "0     01/12/2017                254  ...            0.0                4\n",
       "1     01/12/2017                204  ...            0.0                4\n",
       "2     01/12/2017                173  ...            0.0                4\n",
       "3     01/12/2017                107  ...            0.0                4\n",
       "4     01/12/2017                 78  ...            0.0                4\n",
       "...          ...                ...  ...            ...              ...\n",
       "8052  30/11/2018               1003  ...            0.0                4\n",
       "8053  30/11/2018                764  ...            0.0                4\n",
       "8054  30/11/2018                694  ...            0.0                4\n",
       "8055  30/11/2018                712  ...            0.0                4\n",
       "8056  30/11/2018                584  ...            0.0                4\n",
       "\n",
       "[8057 rows x 11 columns]"
      ]
     },
     "execution_count": 7,
     "metadata": {},
     "output_type": "execute_result"
    }
   ],
   "source": [
    "dataset"
   ]
  },
  {
   "cell_type": "markdown",
   "metadata": {
    "id": "MN-YJZYjFEuM"
   },
   "source": [
    "The column of \"Rented Bike Count\" will be our labels ($\\text{y}$) all the rest except for the \"Date\" will be our measurements ($\\mathbf{x}$).\n",
    "\n",
    "**Think**: Why would learning to make predictions based on the date be a bad thing?\n",
    "\n",
    "✍️ Complete the code in order to create a list named \"x_field\", which contain the name of the fields which we would like to use as the measurements:"
   ]
  },
  {
   "cell_type": "code",
   "execution_count": 8,
   "metadata": {
    "id": "1JD0aU83FEuN"
   },
   "outputs": [],
   "source": [
    "y_field = 'Rented Bike Count'\n",
    "\n",
    "## %%%%%%%%%%%%%%% Your code here - Begin %%%%%%%%%%%%%%%\n",
    "## Fill in the name of the relevant fields.\n",
    "x_fields = ['Hour', 'Temperature(°C)', 'Humidity(%)', 'Wind speed (m/s)', 'Visibility (10m)', 'Solar Radiation (MJ/m2)', 'Rainfall(mm)', \n",
    "            'Snowfall (cm)', 'Day of the week']\n",
    "## %%%%%%%%%%%%%%% Your code here - End %%%%%%%%%%%%%%%%%"
   ]
  },
  {
   "cell_type": "markdown",
   "metadata": {
    "id": "zzBXIM1-FEuN"
   },
   "source": [
    "### Plotting the $\\text{y}$ vs. each one of the fields\n",
    "\n",
    "In order to get a fell of the data (values ranges, distribution across the range, etc.) let's create a plot for the values in each field with the matching values of $\\text{y}$:"
   ]
  },
  {
   "cell_type": "code",
   "execution_count": null,
   "metadata": {
    "id": "2uQ3j6U-FEuO"
   },
   "outputs": [],
   "source": [
    "fig, axes = plt.subplots(3, 3, figsize=(9, 9))  # Create a figure with 3 over 3 axes\n",
    "axes = axes.flatten()  # Convert the object storing the axes for a 3 by 3 array into a 1D array of lenth 9.\n",
    "\n",
    "for i_field, field in enumerate(x_fields):\n",
    "    ax = axes[i_field]\n",
    "    ax.plot(dataset[field].values, dataset['Rented Bike Count'].values, '.', markersize=1)\n",
    "    ax.set_xlabel(field)\n",
    "    ax.set_ylabel('Rented Bike Count')\n",
    "fig.tight_layout()    "
   ]
  },
  {
   "cell_type": "markdown",
   "metadata": {
    "id": "ge-l19QTFEuO"
   },
   "source": [
    "## Train-test split\n",
    "\n",
    "Before we start building our model we shall first divide the dataset into 80% train and 20% train.\n",
    "\n",
    "**Note**: we will use the name train_full to indicate the train set before splitting it into train and validation."
   ]
  },
  {
   "cell_type": "code",
   "execution_count": 11,
   "metadata": {
    "id": "nKPwGD6dFEuO"
   },
   "outputs": [],
   "source": [
    "n_samples = len(dataset)  # The total number of samples in the dataset\n",
    "\n",
    "## Generate a random generator with a fixed seed\n",
    "rand_gen = np.random.RandomState(0)\n",
    "\n",
    "## Generating a shuffled vector of indices\n",
    "indices = np.arange(n_samples)\n",
    "rand_gen.shuffle(indices)\n",
    "\n",
    "## Split the indices into 80% train (full) / 20% test\n",
    "n_samples_train_full = int(n_samples * 0.8)\n",
    "train_full_indices = indices[:n_samples_train_full]\n",
    "test_indices = indices[n_samples_train_full:]\n",
    "\n",
    "## Extract the sub datasets from the full dataset using the calculated indices\n",
    "train_full_set = dataset.iloc[train_full_indices]\n",
    "test_set = dataset.iloc[test_indices]"
   ]
  },
  {
   "cell_type": "markdown",
   "metadata": {
    "id": "XjcFBGX3FEuO"
   },
   "source": [
    "## Train - validation split\n",
    "\n",
    "Since we plan to test different configuration of building our model we would like to further split the train set into 75% train and 25% validation set. (which will result in a 60%-20%-20% over all split).\n",
    "\n",
    "✍️ Complete the following code to create a train-validation split similar to the train-test split above:"
   ]
  },
  {
   "cell_type": "code",
   "execution_count": 15,
   "metadata": {
    "id": "HL5pL9mHFEuP"
   },
   "outputs": [],
   "source": [
    "## Generate a random generator with a fixed (different) seed\n",
    "rand_gen = np.random.RandomState(1)\n",
    "\n",
    "## Generating a shuffled vector of indices\n",
    "indices = train_full_indices.copy()\n",
    "rand_gen.shuffle(indices)\n",
    "\n",
    "## %%%%%%%%%%%%%%% Your code here - Begin %%%%%%%%%%%%%%%\n",
    "## Split the indices of the train (full) dataset into 75% train / 25% validation\n",
    "n_samples_train = int(0.75 * len(indices))\n",
    "train_indices = indices[:n_samples_train]\n",
    "val_indices = indices[n_samples_train:]\n",
    "## %%%%%%%%%%%%%%% Your code here - End %%%%%%%%%%%%%%%%%\n",
    "\n",
    "## Extract the sub datasets from the full dataset using the calculated indices\n",
    "train_set = dataset.iloc[train_indices]\n",
    "val_set = dataset.iloc[val_indices]"
   ]
  },
  {
   "cell_type": "code",
   "execution_count": 18,
   "metadata": {
    "colab": {
     "base_uri": "https://localhost:8080/",
     "height": 458
    },
    "id": "vGcM1t1bM1HD",
    "outputId": "d2100564-5dc1-4ba9-db6f-6d0e47b82a10"
   },
   "outputs": [
    {
     "name": "stdout",
     "output_type": "stream",
     "text": [
      "4833,1612\n"
     ]
    },
    {
     "data": {
      "text/html": [
       "<div>\n",
       "<style scoped>\n",
       "    .dataframe tbody tr th:only-of-type {\n",
       "        vertical-align: middle;\n",
       "    }\n",
       "\n",
       "    .dataframe tbody tr th {\n",
       "        vertical-align: top;\n",
       "    }\n",
       "\n",
       "    .dataframe thead th {\n",
       "        text-align: right;\n",
       "    }\n",
       "</style>\n",
       "<table border=\"1\" class=\"dataframe\">\n",
       "  <thead>\n",
       "    <tr style=\"text-align: right;\">\n",
       "      <th></th>\n",
       "      <th>Date</th>\n",
       "      <th>Rented Bike Count</th>\n",
       "      <th>Hour</th>\n",
       "      <th>Temperature(°C)</th>\n",
       "      <th>Humidity(%)</th>\n",
       "      <th>Wind speed (m/s)</th>\n",
       "      <th>Visibility (10m)</th>\n",
       "      <th>Solar Radiation (MJ/m2)</th>\n",
       "      <th>Rainfall(mm)</th>\n",
       "      <th>Snowfall (cm)</th>\n",
       "      <th>Day of the week</th>\n",
       "    </tr>\n",
       "  </thead>\n",
       "  <tbody>\n",
       "    <tr>\n",
       "      <th>1269</th>\n",
       "      <td>27/01/2018</td>\n",
       "      <td>103</td>\n",
       "      <td>21</td>\n",
       "      <td>-7.9</td>\n",
       "      <td>35</td>\n",
       "      <td>2.6</td>\n",
       "      <td>1878</td>\n",
       "      <td>0.00</td>\n",
       "      <td>0.0</td>\n",
       "      <td>0.0</td>\n",
       "      <td>5</td>\n",
       "    </tr>\n",
       "    <tr>\n",
       "      <th>200</th>\n",
       "      <td>09/12/2017</td>\n",
       "      <td>222</td>\n",
       "      <td>8</td>\n",
       "      <td>-5.4</td>\n",
       "      <td>56</td>\n",
       "      <td>0.7</td>\n",
       "      <td>1940</td>\n",
       "      <td>0.01</td>\n",
       "      <td>0.0</td>\n",
       "      <td>0.0</td>\n",
       "      <td>5</td>\n",
       "    </tr>\n",
       "    <tr>\n",
       "      <th>3584</th>\n",
       "      <td>11/05/2018</td>\n",
       "      <td>1881</td>\n",
       "      <td>8</td>\n",
       "      <td>13.1</td>\n",
       "      <td>78</td>\n",
       "      <td>1.2</td>\n",
       "      <td>330</td>\n",
       "      <td>0.41</td>\n",
       "      <td>0.0</td>\n",
       "      <td>0.0</td>\n",
       "      <td>4</td>\n",
       "    </tr>\n",
       "    <tr>\n",
       "      <th>3177</th>\n",
       "      <td>22/04/2018</td>\n",
       "      <td>247</td>\n",
       "      <td>9</td>\n",
       "      <td>16.9</td>\n",
       "      <td>45</td>\n",
       "      <td>0.9</td>\n",
       "      <td>1958</td>\n",
       "      <td>0.27</td>\n",
       "      <td>0.0</td>\n",
       "      <td>0.0</td>\n",
       "      <td>6</td>\n",
       "    </tr>\n",
       "    <tr>\n",
       "      <th>3082</th>\n",
       "      <td>18/04/2018</td>\n",
       "      <td>761</td>\n",
       "      <td>10</td>\n",
       "      <td>13.7</td>\n",
       "      <td>26</td>\n",
       "      <td>2.3</td>\n",
       "      <td>1476</td>\n",
       "      <td>2.25</td>\n",
       "      <td>0.0</td>\n",
       "      <td>0.0</td>\n",
       "      <td>2</td>\n",
       "    </tr>\n",
       "    <tr>\n",
       "      <th>...</th>\n",
       "      <td>...</td>\n",
       "      <td>...</td>\n",
       "      <td>...</td>\n",
       "      <td>...</td>\n",
       "      <td>...</td>\n",
       "      <td>...</td>\n",
       "      <td>...</td>\n",
       "      <td>...</td>\n",
       "      <td>...</td>\n",
       "      <td>...</td>\n",
       "      <td>...</td>\n",
       "    </tr>\n",
       "    <tr>\n",
       "      <th>5863</th>\n",
       "      <td>17/08/2018</td>\n",
       "      <td>1271</td>\n",
       "      <td>7</td>\n",
       "      <td>22.0</td>\n",
       "      <td>49</td>\n",
       "      <td>1.7</td>\n",
       "      <td>2000</td>\n",
       "      <td>0.23</td>\n",
       "      <td>0.0</td>\n",
       "      <td>0.0</td>\n",
       "      <td>4</td>\n",
       "    </tr>\n",
       "    <tr>\n",
       "      <th>4381</th>\n",
       "      <td>15/06/2018</td>\n",
       "      <td>1035</td>\n",
       "      <td>13</td>\n",
       "      <td>25.3</td>\n",
       "      <td>48</td>\n",
       "      <td>1.8</td>\n",
       "      <td>1935</td>\n",
       "      <td>3.42</td>\n",
       "      <td>0.0</td>\n",
       "      <td>0.0</td>\n",
       "      <td>4</td>\n",
       "    </tr>\n",
       "    <tr>\n",
       "      <th>7574</th>\n",
       "      <td>10/11/2018</td>\n",
       "      <td>847</td>\n",
       "      <td>21</td>\n",
       "      <td>10.8</td>\n",
       "      <td>78</td>\n",
       "      <td>1.0</td>\n",
       "      <td>303</td>\n",
       "      <td>0.00</td>\n",
       "      <td>0.0</td>\n",
       "      <td>0.0</td>\n",
       "      <td>5</td>\n",
       "    </tr>\n",
       "    <tr>\n",
       "      <th>3656</th>\n",
       "      <td>14/05/2018</td>\n",
       "      <td>1997</td>\n",
       "      <td>8</td>\n",
       "      <td>13.8</td>\n",
       "      <td>79</td>\n",
       "      <td>0.9</td>\n",
       "      <td>313</td>\n",
       "      <td>0.44</td>\n",
       "      <td>0.0</td>\n",
       "      <td>0.0</td>\n",
       "      <td>0</td>\n",
       "    </tr>\n",
       "    <tr>\n",
       "      <th>6269</th>\n",
       "      <td>03/09/2018</td>\n",
       "      <td>264</td>\n",
       "      <td>5</td>\n",
       "      <td>23.9</td>\n",
       "      <td>70</td>\n",
       "      <td>1.5</td>\n",
       "      <td>2000</td>\n",
       "      <td>0.00</td>\n",
       "      <td>0.0</td>\n",
       "      <td>0.0</td>\n",
       "      <td>0</td>\n",
       "    </tr>\n",
       "  </tbody>\n",
       "</table>\n",
       "<p>4833 rows × 11 columns</p>\n",
       "</div>"
      ],
      "text/plain": [
       "            Date  Rented Bike Count  ...  Snowfall (cm)  Day of the week\n",
       "1269  27/01/2018                103  ...            0.0                5\n",
       "200   09/12/2017                222  ...            0.0                5\n",
       "3584  11/05/2018               1881  ...            0.0                4\n",
       "3177  22/04/2018                247  ...            0.0                6\n",
       "3082  18/04/2018                761  ...            0.0                2\n",
       "...          ...                ...  ...            ...              ...\n",
       "5863  17/08/2018               1271  ...            0.0                4\n",
       "4381  15/06/2018               1035  ...            0.0                4\n",
       "7574  10/11/2018                847  ...            0.0                5\n",
       "3656  14/05/2018               1997  ...            0.0                0\n",
       "6269  03/09/2018                264  ...            0.0                0\n",
       "\n",
       "[4833 rows x 11 columns]"
      ]
     },
     "execution_count": 18,
     "metadata": {},
     "output_type": "execute_result"
    }
   ],
   "source": [
    "print(f\"{len(train_set)},{len(val_set)}\")\n"
   ]
  },
  {
   "cell_type": "markdown",
   "metadata": {
    "id": "mwHU_jWKFEuP"
   },
   "source": [
    "## Training an LLS model based on a single field\n",
    "\n",
    "As a warm up, we shall start with building a linear predictor using only the temperature field for the dataset. In other words we would like to use the following parametric model:\n",
    "\n",
    "$$\n",
    "\\hat{y}=h_{\\boldsymbol{\\theta}}(\\boldsymbol{x})=\\theta_1+\\theta_2 x_{\\text{temperature}}\n",
    "$$"
   ]
  },
  {
   "cell_type": "markdown",
   "metadata": {
    "id": "sJTojw43FEuP"
   },
   "source": [
    "### Building the $X$ matrix and the $\\boldsymbol{y}$ vector\n",
    "\n",
    "Since we would like our model to also have a bias term, we would like to construct an $X$ matrix with a column containing the temperature field and a column containing ones.\n",
    "\n",
    "The following code constructs the $X$ matrix and the $\\boldsymbol{y}$ vector:"
   ]
  },
  {
   "cell_type": "code",
   "execution_count": 22,
   "metadata": {
    "id": "sx7gfJHkFEuP"
   },
   "outputs": [],
   "source": [
    "## Create a list of all the features we would like X to contain\n",
    "features = []\n",
    "features.append(np.ones(len(dataset)))\n",
    "features.append(dataset['Temperature(°C)'].values)\n",
    "# a list of two numpy arrays\n",
    "\n",
    "## Stack all the features side by side to create X\n",
    "x_train = np.stack(features, axis=1)\n",
    "\n",
    "## Extract the y vector form the dataset\n",
    "y_train = train_set[y_field].values"
   ]
  },
  {
   "cell_type": "code",
   "execution_count": 23,
   "metadata": {
    "colab": {
     "base_uri": "https://localhost:8080/"
    },
    "id": "09A1rgz7OBi4",
    "outputId": "fc515ac2-bfe0-4f2d-f846-2c19adc4fc02"
   },
   "outputs": [
    {
     "name": "stdout",
     "output_type": "stream",
     "text": [
      "[array([1., 1., 1., ..., 1., 1., 1.]), array([-5.2, -5.5, -6. , ...,  2.6,  2.1,  1.9])]\n"
     ]
    }
   ],
   "source": [
    "print(features)"
   ]
  },
  {
   "cell_type": "markdown",
   "metadata": {
    "id": "NeTAFn3HFEuP"
   },
   "source": [
    "Printing first 10 samples in $X$ and $\\boldsymbol{y}$: "
   ]
  },
  {
   "cell_type": "code",
   "execution_count": 24,
   "metadata": {
    "colab": {
     "base_uri": "https://localhost:8080/"
    },
    "id": "QV1Zg40DFEuQ",
    "outputId": "79276b46-ea97-46f8-8c1b-1e027c998023"
   },
   "outputs": [
    {
     "name": "stdout",
     "output_type": "stream",
     "text": [
      "The X matrix:\n",
      "[[ 1.  -5.2]\n",
      " [ 1.  -5.5]\n",
      " [ 1.  -6. ]\n",
      " [ 1.  -6.2]\n",
      " [ 1.  -6. ]\n",
      " [ 1.  -6.4]\n",
      " [ 1.  -6.6]\n",
      " [ 1.  -7.4]\n",
      " [ 1.  -7.6]\n",
      " [ 1.  -6.5]]\n",
      "\n",
      "The y vector:\n",
      "[ 103  222 1881  247  761  715  444  450 2270 1342]\n"
     ]
    }
   ],
   "source": [
    "print('The X matrix:')\n",
    "print(x_train[:10])\n",
    "print('\\nThe y vector:')\n",
    "print(y_train[:10])"
   ]
  },
  {
   "cell_type": "markdown",
   "metadata": {
    "id": "0wsOtOReFEuQ"
   },
   "source": [
    "#### Putting it in a function\n",
    "\n",
    "Here we have constructed $X$ and $\\boldsymbol{y}$ for the train set. Since we would later like to repeat the process for the validation and the test set as well it would be better if we would create a function which receives a dataset (a DataFrame) and extracts $X$ and $\\boldsymbol{y}$.\n",
    "\n",
    "✍️ Complete the following code to create this function:"
   ]
  },
  {
   "cell_type": "code",
   "execution_count": 25,
   "metadata": {
    "id": "6rqdXdsfFEuQ"
   },
   "outputs": [],
   "source": [
    "def extract_x_y(dataset):\n",
    "    ## %%%%%%%%%%%%%%% Your code here - Begin %%%%%%%%%%%%%%%\n",
    "    ## make sure the you use dataset here and not train_set\n",
    "    features = []\n",
    "    features.append(np.ones(len(dataset)))\n",
    "    features.append(dataset['Temperature(°C)'].values)\n",
    "\n",
    "    x = np.stack(features, axis=1)\n",
    "    y = dataset[y_field].values\n",
    "    ## %%%%%%%%%%%%%%% Your code here - End %%%%%%%%%%%%%%%%%\n",
    "    return x, y\n",
    "\n",
    "x_train, y_train = extract_x_y(train_set)"
   ]
  },
  {
   "cell_type": "markdown",
   "metadata": {
    "id": "61ijr5fwFEuQ"
   },
   "source": [
    "### Calculating the model's parameters\n",
    "\n",
    "✍️ Use *x_train* and *y_train* to calculate the optimal parameters $\\boldsymbol{\\theta}$ as we learned in class.\n",
    "\n",
    "Useful Numpy functions:\n",
    "\n",
    "- *A.T* calculates the transpose of A.\n",
    "-  *A@B* performs a matrix multiplication between A and B.\n",
    "- np.linalg.inv(A) calculates the inverse matrix of A"
   ]
  },
  {
   "cell_type": "code",
   "execution_count": 39,
   "metadata": {
    "colab": {
     "base_uri": "https://localhost:8080/"
    },
    "id": "I9DfYJNdFEuQ",
    "outputId": "dab7b341-45d0-4ad9-f35a-1d426391f979"
   },
   "outputs": [
    {
     "name": "stdout",
     "output_type": "stream",
     "text": [
      "[356.58447001  29.75775466]\n"
     ]
    }
   ],
   "source": [
    "## Calcualting theta\n",
    "\n",
    "## %%%%%%%%%%%%%%% Your code here - Begin %%%%%%%%%%%%%%%\n",
    "theta = np.linalg.inv(x_train.T@x_train)@x_train.T@y_train\n",
    "## %%%%%%%%%%%%%%% Your code here - End %%%%%%%%%%%%%%%%%\n",
    "print(theta)"
   ]
  },
  {
   "cell_type": "markdown",
   "metadata": {
    "id": "sbS6aBrhFEuR"
   },
   "source": [
    "### Using a more numerical efficient calculation\n",
    "\n",
    "The equation we have showed in class for calculating $\\boldsymbol{\\theta}$ from $X$ and $\\boldsymbol{y}$ is mathematically correct but it is not the most efficient and numerically stable way to to find the optimal $\\boldsymbol{\\theta}$ minimizing $\\lVert X\\boldsymbol{\\theta}-\\boldsymbol{y}\\rVert_2^2$. In general when performing numerical calculation we would prefer to avoid inverting matrices.\n",
    "\n",
    "The Numpy function *np.linalg.lstsq* solve the least squares problem in a much more efficient and stable way. Therefore we would prefer calculating $\\boldsymbol{\\theta}$ in the following way:"
   ]
  },
  {
   "cell_type": "code",
   "execution_count": 44,
   "metadata": {
    "colab": {
     "base_uri": "https://localhost:8080/"
    },
    "id": "p0v6Qq2FFEuR",
    "outputId": "b0727314-42f0-4f9d-869f-94d7925f239c"
   },
   "outputs": [
    {
     "name": "stdout",
     "output_type": "stream",
     "text": [
      "[[356.58447001]\n",
      " [ 29.75775466]]\n"
     ]
    }
   ],
   "source": [
    "theta, _, _, _ = np.linalg.lstsq(x_train, y_train, rcond=None)\n",
    "theta = theta.reshape((theta.shape[0], 1))\n",
    "print(theta)"
   ]
  },
  {
   "cell_type": "code",
   "execution_count": 35,
   "metadata": {
    "colab": {
     "base_uri": "https://localhost:8080/"
    },
    "id": "9c_JKqIERxGP",
    "outputId": "d7afb75d-619f-432a-dc25-14a34b5a80cb"
   },
   "outputs": [
    {
     "name": "stdout",
     "output_type": "stream",
     "text": [
      "x shape: (4833, 2), theta shape: (2, 1)\n"
     ]
    }
   ],
   "source": [
    "print(f\"x shape: {x_train.shape}, theta shape: {theta.reshape((theta.shape[0],1)).shape}\")"
   ]
  },
  {
   "cell_type": "markdown",
   "metadata": {
    "id": "fPCnciMkFEuR"
   },
   "source": [
    "Make sure you got the same results in your calculation as the *np.linalg.lstsq* function.\n",
    "\n",
    "- The *rcond=None* argument was added to suppress some error which is related to some recent changes which were made in the Numpy package.\n",
    "- The *np.linalg.lstsq* function return 4 outputs (the other 3 outputs are related to the quality of the solution). The \", _, _, _\" phrase which appears in the above equation tells Python to expect 4 outputs but to ignore the last 3.\n",
    "\n",
    "The full documentation of the *np.linalg.lstsq* function can be found [here](https://numpy.org/doc/stable/reference/generated/numpy.linalg.lstsq.html)"
   ]
  },
  {
   "cell_type": "markdown",
   "metadata": {
    "id": "SWl_WsXKFEuR"
   },
   "source": [
    "### Making predictions\n",
    "\n",
    "✍️ Use *theta* and *x_train* to calculate the predicted number of rents, $\\hat{y}$, on the train set.\n",
    "\n",
    "- Use the *@* operator."
   ]
  },
  {
   "cell_type": "code",
   "execution_count": 45,
   "metadata": {
    "colab": {
     "base_uri": "https://localhost:8080/"
    },
    "id": "LQhiZvcQFEuS",
    "outputId": "0cbbe986-38f2-43d2-fabe-39db0d1003d3"
   },
   "outputs": [
    {
     "name": "stdout",
     "output_type": "stream",
     "text": [
      "x shape: (4833, 2), theta shape: (2, 1)\n",
      "Predictions: [[ 121]\n",
      " [ 195]\n",
      " [ 746]\n",
      " [ 859]\n",
      " [ 764]\n",
      " [1160]\n",
      " [ 606]\n",
      " [ 579]\n",
      " [1142]\n",
      " [ 966]]\n",
      "Predictions: [ 103  222 1881  247  761  715  444  450 2270 1342]\n"
     ]
    }
   ],
   "source": [
    "## %%%%%%%%%%%%%%% Your code here - Begin %%%%%%%%%%%%%%%\n",
    "print(f\"x shape: {x_train.shape}, theta shape: {theta.shape}\")\n",
    "y_hat_train = x_train@theta\n",
    "## %%%%%%%%%%%%%%% Your code here - End %%%%%%%%%%%%%%%%%\n",
    "\n",
    "## Printing the predictions and the true values of the 20 first samples\n",
    "print(f'Predictions: {y_hat_train[:10].astype(int)}')\n",
    "print(f'Predictions: {y_train[:10]}')"
   ]
  },
  {
   "cell_type": "markdown",
   "metadata": {
    "id": "lEtLFqrfFEuS"
   },
   "source": [
    "### Building a class\n",
    "\n",
    "To make building the model and making prediction simpler we shall build a class which will hold the learned model and will have two methods:\n",
    "\n",
    "- **fit**: which will receive $X$ and $\\boldsymbol{y}$ and use them to lean the optimal parameters.\n",
    "- **predict** which will receive $X$ and produce $\\hat{y}$.\n",
    "\n",
    "✍️ Complete the missing line in the following code based on the prediction function you wrote above."
   ]
  },
  {
   "cell_type": "code",
   "execution_count": 47,
   "metadata": {
    "id": "kny43LVnFEuS"
   },
   "outputs": [],
   "source": [
    "class LLS:  # Defining a new class named LLS\n",
    "    def __init__(self):  # This function is executed when the object is created\n",
    "        ## Defining and initizaling the classes inner variables\n",
    "        self.theta = None  # Theta will hold the learned model parameters.\n",
    "\n",
    "    def fit(self, x, y):\n",
    "        self.theta, _, _, _ = np.linalg.lstsq(x, y, rcond=None)\n",
    "        self.theta = self.theta.reshape((theta.shape[0], 1))\n",
    "    def predict(self, x):\n",
    "        ## %%%%%%%%%%%%%%% Your code here - Begin %%%%%%%%%%%%%%%\n",
    "        ## Make sure you use x here and not x_train\n",
    "        y_hat = x@self.theta\n",
    "        ## %%%%%%%%%%%%%%% Your code here - End %%%%%%%%%%%%%%%%%\n",
    "        return y_hat"
   ]
  },
  {
   "cell_type": "markdown",
   "metadata": {
    "id": "7-h2jMfnFEuS"
   },
   "source": [
    "Let's use our new class for training a model and making predictions"
   ]
  },
  {
   "cell_type": "code",
   "execution_count": 48,
   "metadata": {
    "colab": {
     "base_uri": "https://localhost:8080/"
    },
    "id": "jINAt0m3FEuT",
    "outputId": "3ca6490d-b9d8-413a-944e-d600e9666539"
   },
   "outputs": [
    {
     "name": "stdout",
     "output_type": "stream",
     "text": [
      "[[ 121]\n",
      " [ 195]\n",
      " [ 746]\n",
      " [ 859]\n",
      " [ 764]\n",
      " [1160]\n",
      " [ 606]\n",
      " [ 579]\n",
      " [1142]\n",
      " [ 966]]\n",
      "[ 103  222 1881  247  761  715  444  450 2270 1342]\n"
     ]
    }
   ],
   "source": [
    "model = LLS()\n",
    "model.fit(x_train, y_train)\n",
    "\n",
    "y_hat_train = model.predict(x_train)\n",
    "\n",
    "## Printing the predictions and the true values of the 20 first samples\n",
    "print(y_hat_train[:10].astype(int))\n",
    "print(y_train[:10])"
   ]
  },
  {
   "cell_type": "markdown",
   "metadata": {
    "id": "O3L2Ju7sFEuT"
   },
   "source": [
    "Make sure you got the same results as before"
   ]
  },
  {
   "cell_type": "markdown",
   "metadata": {
    "id": "58y5SZ8IFEuT"
   },
   "source": [
    "### Evaluation\n",
    "\n",
    "✍️ Complete the function bellow so it will evaluate the RMSE score for a given model (an LLS object) and a given pair of $X$ and $\\boldsymbol{y}$:\n",
    "\n",
    "- **Reminder**: the RMSE score is given by $\\sqrt{\\tfrac{1}{N}\\sum_i (\\hat{y}_i-y_i)^2}$"
   ]
  },
  {
   "cell_type": "code",
   "execution_count": 54,
   "metadata": {
    "id": "OlhPiqC9FEuU"
   },
   "outputs": [],
   "source": [
    "def calc_rmse(model, x, y):\n",
    "    ## %%%%%%%%%%%%%%% Your code here - Begin %%%%%%%%%%%%%%%\n",
    "    y_hat = model.predict(x)\n",
    "    rmse = (np.square(np.subtract(y,y_hat)).mean())**(1/2)\n",
    "    ## %%%%%%%%%%%%%%% Your code here - End %%%%%%%%%%%%%%%%%\n",
    "    return rmse"
   ]
  },
  {
   "cell_type": "markdown",
   "metadata": {
    "id": "0i05wNZTFEuU"
   },
   "source": [
    "Lets use this function to calculate the train and the validation scores:"
   ]
  },
  {
   "cell_type": "code",
   "execution_count": 55,
   "metadata": {
    "colab": {
     "base_uri": "https://localhost:8080/"
    },
    "id": "KqvznQjGFEuU",
    "outputId": "57a67579-647a-4ac0-edaa-5c65d94c72ec"
   },
   "outputs": [
    {
     "name": "stdout",
     "output_type": "stream",
     "text": [
      "The train score is: 540.88\n",
      "The validation score is: 526.92\n"
     ]
    }
   ],
   "source": [
    "## Calculate the model's rmse on the train set\n",
    "print(f'The train score is: {calc_rmse(model, x_train, y_train):.2f}')\n",
    "\n",
    "## Extract x_val and y_val form val_set\n",
    "x_val, y_val = extract_x_y(val_set)\n",
    "\n",
    "## Calculate the model's rmse on the validation set\n",
    "print(f'The validation score is: {calc_rmse(model, x_val, y_val):.2f}')"
   ]
  },
  {
   "cell_type": "markdown",
   "metadata": {
    "id": "2xpqTjS_FEuU"
   },
   "source": [
    "### Using the scikit-learn package\n",
    "\n",
    "The [scikit-learn package](https://scikit-learn.org/stable/) (which appears as sklearn in Python) is a popular Python package for applying machine-learning algorithms. The package contains almost all the algorithms which we will cover in this course.\n",
    "\n",
    "We will use be using this package in many places in these assignments.\n",
    "\n",
    "The scikit-learn package has an implementation of a [LinearRegression](https://scikit-learn.org/stable/modules/generated/sklearn.linear_model.LinearRegression.html) class which is very similar to the one we wrote. Let's try using this implementation and compare our results.\n",
    "\n",
    "**notes**:\n",
    "\n",
    "- We will usually only import from scikit-learn the specific class \\ function we need rather then the full package. This is done using the following syntax: \"from sklearn.linear_model import LinearRegression\"\n",
    "- The LinearRegression class added the the bias term by default, since we have already added it ourselves we will tell the class not to add it by using the \"fit_intercept=False\" argument when creating the model."
   ]
  },
  {
   "cell_type": "code",
   "execution_count": 56,
   "metadata": {
    "colab": {
     "base_uri": "https://localhost:8080/"
    },
    "id": "DwIP2IlCFEuV",
    "outputId": "d706e9f4-1aee-4e45-afb5-e41f3a3c2610"
   },
   "outputs": [
    {
     "name": "stdout",
     "output_type": "stream",
     "text": [
      "The train score is: 540.88\n",
      "The validation score is: 526.92\n"
     ]
    }
   ],
   "source": [
    "from sklearn.linear_model import LinearRegression\n",
    "model = LinearRegression(fit_intercept=False)\n",
    "model.fit(x_train, y_train)\n",
    "\n",
    "print(f'The train score is: {calc_rmse(model, x_train, y_train):.2f}')\n",
    "print(f'The validation score is: {calc_rmse(model, x_val, y_val):.2f}')"
   ]
  },
  {
   "cell_type": "markdown",
   "metadata": {
    "id": "PaRobV_QFEuV"
   },
   "source": [
    "Make sure you got the same results as before"
   ]
  },
  {
   "cell_type": "markdown",
   "metadata": {
    "id": "5SgOEOxwFEuV"
   },
   "source": [
    "## Using all features\n",
    "\n",
    "Up until now we have only used the temperature files from the dataset. We would now like to expend our model to include all features:\n",
    "\n",
    "$$\n",
    "\\hat{y}=h_{\\boldsymbol{\\theta}}(\\boldsymbol{x})\n",
    "=\\theta_1\n",
    "+\\theta_2 x_{\\text{hour}}\n",
    "+\\theta_3 x_{\\text{temperature}}\n",
    "+\\theta_4 x_{\\text{humidity}}\n",
    "+\\dots\n",
    "$$\n",
    "\n",
    "✍️ Update the \"extract_x_y\" function so that it will produce new $X$ which has a field for each column.\n",
    "\n",
    "- Do not add the ones column (the bias column). We will let the LinearRegression add it by itself."
   ]
  },
  {
   "cell_type": "code",
   "execution_count": 59,
   "metadata": {
    "id": "cp879OEYFEuV"
   },
   "outputs": [],
   "source": [
    "def extract_x_y(dataset):\n",
    "    ## %%%%%%%%%%%%%%% Your code here - Begin %%%%%%%%%%%%%%%\n",
    "    features = []\n",
    "    for field in x_fields:\n",
    "        features.append(dataset[field].values)\n",
    "    \n",
    "    x = np.stack(features, axis=1)\n",
    "    y = dataset[y_field].values\n",
    "    ## %%%%%%%%%%%%%%% Your code here - End %%%%%%%%%%%%%%%%%\n",
    "    return x, y"
   ]
  },
  {
   "cell_type": "markdown",
   "metadata": {
    "id": "7vMOmBiAFEuW"
   },
   "source": [
    "Let's train and evaluate the linear model using the new features.\n",
    "\n",
    "- We have removed the \"fit_intercept=False\" argument so that the LinearRegression will add a bias term.\n",
    "- We have added a \"normalize=True\" argument which normalizes each column of $X$ making the leaning process of the parameters more stable."
   ]
  },
  {
   "cell_type": "code",
   "execution_count": 60,
   "metadata": {
    "colab": {
     "base_uri": "https://localhost:8080/"
    },
    "id": "nMKEw2iuFEuW",
    "outputId": "8688e5ec-94c5-421c-ffe0-94757bb3abab"
   },
   "outputs": [
    {
     "name": "stdout",
     "output_type": "stream",
     "text": [
      "The train score is: 455.03\n",
      "The validation score is: 443.17\n"
     ]
    }
   ],
   "source": [
    "x_train, y_train = extract_x_y(train_set)\n",
    "x_val, y_val = extract_x_y(val_set)\n",
    "\n",
    "model = LinearRegression(normalize=True)\n",
    "model.fit(x_train, y_train)\n",
    "\n",
    "print(f'The train score is: {calc_rmse(model, x_train, y_train):.2f}')\n",
    "print(f'The validation score is: {calc_rmse(model, x_val, y_val):.2f}')"
   ]
  },
  {
   "cell_type": "markdown",
   "metadata": {
    "id": "6OljNSiMFEuW"
   },
   "source": [
    "**Check**: Have the result improve? Both of them?"
   ]
  },
  {
   "cell_type": "markdown",
   "metadata": {
    "id": "50ns9c2-FEuX"
   },
   "source": [
    "## Adding second order features\n",
    "\n",
    "Now let's try to use a parametric model which is a second order polynomial of the fields in the dataset.\n",
    "\n",
    "$$\n",
    "\\hat{y}=h_{\\boldsymbol{\\theta}}(\\boldsymbol{x})\n",
    "=\\theta_1\n",
    "+\\theta_2 x_{\\text{hour}}\n",
    "+\\theta_3 x_{\\text{temperature}}\n",
    "+\\theta_4 x_{\\text{hour}}^2\n",
    "+\\theta_5 x_{\\text{temperature}}^2\n",
    "+\\theta_6 x_{\\text{hour}}x_{\\text{temperature}}\n",
    "+\\dots\n",
    "$$\n",
    "\n",
    "✍️ Update the \"extract_x_y\" function so that $X$ will include all the term which should appear in a second order polynomial of the features in the dataset."
   ]
  },
  {
   "cell_type": "code",
   "execution_count": 61,
   "metadata": {
    "colab": {
     "base_uri": "https://localhost:8080/"
    },
    "id": "P9WTU5l_FEuX",
    "outputId": "0e87a8cf-4483-45c2-89de-22f34bbb0a47"
   },
   "outputs": [
    {
     "name": "stdout",
     "output_type": "stream",
     "text": [
      "The train score is: 385.73\n",
      "The validation score is: 383.12\n"
     ]
    }
   ],
   "source": [
    "def extract_x_y(dataset):\n",
    "    ## %%%%%%%%%%%%%%% Your code here - Begin %%%%%%%%%%%%%%%\n",
    "    features = []\n",
    "    ## Adding first order features\n",
    "    for field in x_fields:\n",
    "        features.append(dataset[field].values)\n",
    "    ## Adding second order features\n",
    "    for field1 in x_fields:\n",
    "       for field2 in x_fields:\n",
    "           features.append(dataset[field1].values*dataset[field2].values)\n",
    "    \n",
    "    x = np.stack(features, axis=1)\n",
    "    y = dataset[y_field].values\n",
    "    ## %%%%%%%%%%%%%%% Your code here - End %%%%%%%%%%%%%%%%%\n",
    "    return x, y\n",
    "\n",
    "x_train, y_train = extract_x_y(train_set)\n",
    "x_val, y_val = extract_x_y(val_set)\n",
    "\n",
    "model = LinearRegression(normalize=True)\n",
    "model.fit(x_train, y_train)\n",
    "\n",
    "print(f'The train score is: {calc_rmse(model, x_train, y_train):.2f}')\n",
    "print(f'The validation score is: {calc_rmse(model, x_val, y_val):.2f}')"
   ]
  },
  {
   "cell_type": "markdown",
   "metadata": {
    "id": "v0TWJAi7FEuX"
   },
   "source": [
    "**Check**: Have the result improve? Both of them?"
   ]
  },
  {
   "cell_type": "markdown",
   "metadata": {
    "id": "COYqNtNdFEuY"
   },
   "source": [
    "## Adding third order features\n",
    "\n",
    "Now let's try to use a parametric model which is a third order polynomial of the fields in the dataset.\n",
    "\n",
    "✍️ Update the \"extract_x_y\" function so that $X$ will include all the term which should appear in a third order polynomial of the features in the dataset."
   ]
  },
  {
   "cell_type": "code",
   "execution_count": 62,
   "metadata": {
    "colab": {
     "base_uri": "https://localhost:8080/"
    },
    "id": "c31Kbfk2FEuY",
    "outputId": "dcfb6baa-71f0-4313-cdad-bf8617660831"
   },
   "outputs": [
    {
     "name": "stdout",
     "output_type": "stream",
     "text": [
      "The train score is: 297.54\n",
      "The validation score is: 2191.99\n"
     ]
    }
   ],
   "source": [
    "def extract_x_y(dataset):\n",
    "    ## %%%%%%%%%%%%%%% Your code here - Begin %%%%%%%%%%%%%%%\n",
    "    features = []\n",
    "    features.append(np.ones(len(dataset)))\n",
    "\n",
    "    ## Adding first order features\n",
    "    for field in x_fields:\n",
    "      features.append(dataset[field].values)\n",
    "    ## Adding second order features\n",
    "    for field1 in x_fields:\n",
    "       for field2 in x_fields:\n",
    "           features.append(dataset[field1].values*dataset[field2].values)\n",
    "    ## Adding third order features\n",
    "    for field1 in x_fields:\n",
    "        for field2 in x_fields:\n",
    "            for field3 in x_fields:\n",
    "              features.append(dataset[field1].values*dataset[field2].values*dataset[field3].values)\n",
    "\n",
    "    \n",
    "    x = np.stack(features, axis=1)\n",
    "    y = dataset[y_field].values\n",
    "    ## %%%%%%%%%%%%%%% Your code here - End %%%%%%%%%%%%%%%%%\n",
    "    return x, y\n",
    "\n",
    "x_train, y_train = extract_x_y(train_set)\n",
    "x_val, y_val = extract_x_y(val_set)\n",
    "\n",
    "model = LinearRegression(normalize=True)\n",
    "model.fit(x_train, y_train)\n",
    "\n",
    "print(f'The train score is: {calc_rmse(model, x_train, y_train):.2f}')\n",
    "print(f'The validation score is: {calc_rmse(model, x_val, y_val):.2f}')"
   ]
  },
  {
   "cell_type": "markdown",
   "metadata": {
    "id": "sd2SK94LFEuY"
   },
   "source": [
    "**Check**: If you implemented every thing correctly the results here should not have improved. What happened? (you do not have to write down the answer, just make sure you know the answer) answer: overfitting due to a too high model order (the model is too complex and overfitting the train data)"
   ]
  },
  {
   "cell_type": "markdown",
   "metadata": {
    "id": "xyaMUFZpFEuY"
   },
   "source": [
    "## Ridge - $l_2$ regularization\n",
    "\n",
    "Let's try adding an $l_2$ regularization. We can do so by simply replacing the *LinearRegression* class we have been using with the scikit-learn package of [*Ridge*](https://scikit-learn.org/stable/modules/generated/sklearn.linear_model.Lasso.html).\n",
    "\n",
    "The *Ridge* class works just the same as the *LinearRegression* class except that we need to give it the an argument *alpha* which is the regularization coefficient. In our course we use $\\lambda$ for this coefficient.\n",
    "\n",
    "Just as a quick check, let's try training a model using Ridge with $\\lambda=0$.\n",
    "\n",
    "**Think**: what results do you expect to get?"
   ]
  },
  {
   "cell_type": "code",
   "execution_count": 63,
   "metadata": {
    "colab": {
     "base_uri": "https://localhost:8080/"
    },
    "id": "DAfw1C4wFEuZ",
    "outputId": "d1d910c8-08d0-4cbe-e343-51be1d829422"
   },
   "outputs": [
    {
     "name": "stdout",
     "output_type": "stream",
     "text": [
      "The train score is: 297.66\n",
      "The validation score is: 2233.45\n"
     ]
    }
   ],
   "source": [
    "from sklearn.linear_model import Ridge\n",
    "\n",
    "model = Ridge(normalize=True, alpha=0)\n",
    "model.fit(x_train, y_train)\n",
    "\n",
    "print(f'The train score is: {calc_rmse(model, x_train, y_train):.2f}')\n",
    "print(f'The validation score is: {calc_rmse(model, x_val, y_val):.2f}')"
   ]
  },
  {
   "cell_type": "markdown",
   "metadata": {
    "id": "eqGIYr3XFEuZ"
   },
   "source": [
    "## Selecting $\\lambda$"
   ]
  },
  {
   "cell_type": "markdown",
   "metadata": {
    "id": "n32v5pcxFEuZ"
   },
   "source": [
    "To select $\\lambda$ we will simply try a set of values and check how well they perform on the validation set.\n",
    "\n",
    "✍️ Complete the following code to calculate the train and validation scores for the given list of values if $\\lambda$:"
   ]
  },
  {
   "cell_type": "code",
   "execution_count": 64,
   "metadata": {
    "id": "tstt6W9RFEuZ"
   },
   "outputs": [],
   "source": [
    "## The list of lambdas to test\n",
    "lambdas_list = [3, 1, 0.3, 0.1, 0.03, 0.01, 0.003, 0.001, 0.0003, 0.0001]\n",
    "\n",
    "## We will use these to dictionaries to store the results for each lambda\n",
    "train_scores = {}\n",
    "val_scores = {}\n",
    "\n",
    "for lambda_value in lambdas_list:\n",
    "    model = Ridge(normalize=True, alpha=lambda_value)\n",
    "    model.fit(x_train, y_train)\n",
    "    \n",
    "    train_scores[lambda_value] = calc_rmse(model, x_train, y_train)\n",
    "    val_scores[lambda_value] = calc_rmse(model, x_val, y_val)"
   ]
  },
  {
   "cell_type": "code",
   "execution_count": 65,
   "metadata": {
    "colab": {
     "base_uri": "https://localhost:8080/",
     "height": 301
    },
    "id": "lmyg0krnFEuZ",
    "outputId": "39f5681b-7000-46ce-9daf-5809b05930b1"
   },
   "outputs": [
    {
     "data": {
      "image/png": "[encoded data removed]",
      "text/plain": [
       "<Figure size 432x288 with 1 Axes>"
      ]
     },
     "metadata": {
      "needs_background": "light"
     },
     "output_type": "display_data"
    }
   ],
   "source": [
    "fig, ax = plt.subplots()\n",
    "ax.set_xscale('log')\n",
    "ax.plot(list(train_scores.keys()), list(train_scores.values()), label='Train')\n",
    "ax.plot(list(val_scores.keys()), list(val_scores.values()), label='Validation')\n",
    "ax.set_ylabel('RMSE')\n",
    "ax.set_xlabel('$\\lambda$')\n",
    "ax.set_title('Score vs. $\\lambda$')\n",
    "ax.legend();"
   ]
  },
  {
   "cell_type": "markdown",
   "metadata": {
    "id": "AsQx6lGBFEua"
   },
   "source": [
    "The following code selects the $\\lambda$ with the lowest validation score"
   ]
  },
  {
   "cell_type": "code",
   "execution_count": 66,
   "metadata": {
    "colab": {
     "base_uri": "https://localhost:8080/"
    },
    "id": "96-jhWIHFEua",
    "outputId": "1142d0b3-4abb-4fd5-cc0c-3459aec595e5"
   },
   "outputs": [
    {
     "name": "stdout",
     "output_type": "stream",
     "text": [
      "The best lambda is: 0.003, with a validation score of 318.87\n"
     ]
    }
   ],
   "source": [
    "best_lambda = min(val_scores.keys(), key=val_scores.get)\n",
    "print(f'The best lambda is: {best_lambda}, with a validation score of {val_scores[best_lambda]:.2f}')"
   ]
  },
  {
   "cell_type": "markdown",
   "metadata": {
    "id": "hdztZGMwFEua"
   },
   "source": [
    "## LASSO - $l_1$ regularization\n",
    "\n",
    "We can also test $l_1$ regularization using the *Lasso* class in scikit-learn.\n",
    "\n",
    "As we learned in class LASSO has no close form solution and we must use numerical methods to solve it. Scikit-learn uses an iterative algorithm called [coordinate descent](https://en.wikipedia.org/wiki/Coordinate_descent) to find the solution. The smaller $\\lambda$ is the more steps it takes the algorithm to converge.\n",
    "\n",
    "In general we would also want to test different values of $\\lambda$ for LASSO as well, but since LASSO takes slightly longer to learn, we shall save you the time of running the algorithm multiple times, and we shall only test $\\lambda=0.01$.\n",
    "\n",
    "In order to make the algorithm converge we will need to increase the maximal number of iteration it can use. We will do so using the *max_iter* argument:\n",
    "\n",
    "(Running his cell can take about 2 min)."
   ]
  },
  {
   "cell_type": "code",
   "execution_count": 67,
   "metadata": {
    "colab": {
     "base_uri": "https://localhost:8080/"
    },
    "id": "QrvdQuF9FEua",
    "outputId": "1fc7f80e-a2c0-4b53-c695-68df21625bf0"
   },
   "outputs": [
    {
     "name": "stdout",
     "output_type": "stream",
     "text": [
      "The train score is: 323.73\n",
      "The validation score is: 319.43\n"
     ]
    }
   ],
   "source": [
    "from sklearn.linear_model import Lasso\n",
    "\n",
    "model = Lasso(normalize=True, alpha=0.01, max_iter=100000)\n",
    "model.fit(x_train, y_train)\n",
    "    \n",
    "print(f'The train score is: {calc_rmse(model, x_train, y_train):.2f}')\n",
    "print(f'The validation score is: {calc_rmse(model, x_val, y_val):.2f}')"
   ]
  },
  {
   "cell_type": "markdown",
   "metadata": {
    "id": "jJOnALy0FEub"
   },
   "source": [
    "## Retraining using the full train set\n",
    "\n",
    "✍️ In order to produce the final model select the method which gave the best score on the validation set and train a model using this method and the train_full_set."
   ]
  },
  {
   "cell_type": "code",
   "execution_count": 68,
   "metadata": {
    "colab": {
     "base_uri": "https://localhost:8080/"
    },
    "id": "dBIvlCTaFEub",
    "outputId": "c3579b9b-1f5c-4141-b67a-e8abdd4f63e3"
   },
   "outputs": [
    {
     "data": {
      "text/plain": [
       "Ridge(alpha=0.003, copy_X=True, fit_intercept=True, max_iter=None,\n",
       "      normalize=True, random_state=None, solver='auto', tol=0.001)"
      ]
     },
     "execution_count": 68,
     "metadata": {},
     "output_type": "execute_result"
    }
   ],
   "source": [
    "## %%%%%%%%%%%%%%% Your code here - Begin %%%%%%%%%%%%%%%\n",
    "x_train_full, y_train_full = extract_x_y(train_full_set)\n",
    "\n",
    "model = Ridge(normalize=True, alpha=0.003)\n",
    "model.fit(x_train_full, y_train_full)\n",
    "## %%%%%%%%%%%%%%% Your code here - End %%%%%%%%%%%%%%%%%"
   ]
  },
  {
   "cell_type": "markdown",
   "metadata": {
    "id": "3XSovFAnFEub"
   },
   "source": [
    "## Final evaluation\n",
    "\n",
    "Evaluate the model using the test set"
   ]
  },
  {
   "cell_type": "code",
   "execution_count": 69,
   "metadata": {
    "colab": {
     "base_uri": "https://localhost:8080/"
    },
    "id": "01iA6hZhFEub",
    "outputId": "ec2d938f-ab1b-4207-e8e1-86833588b9d5"
   },
   "outputs": [
    {
     "name": "stdout",
     "output_type": "stream",
     "text": [
      "The test score is: 307.53\n"
     ]
    }
   ],
   "source": [
    "## %%%%%%%%%%%%%%% Your code here - Begin %%%%%%%%%%%%%%%\n",
    "x_test, y_test = extract_x_y(test_set)\n",
    "print(f'The test score is: {calc_rmse(model,x_test,y_test):.2f}')\n",
    "## %%%%%%%%%%%%%%% Your code here - End %%%%%%%%%%%%%%%%%"
   ]
  },
  {
   "cell_type": "markdown",
   "metadata": {
    "id": "1-9qTMfzFEub"
   },
   "source": [
    "## Submission\n",
    "\n",
    "To submit your code download it as a **ipynb** file from Colab, and upload it to the course's website (Moodle). You can download this code by selecting **Download .ipynb** from the **file** menu."
   ]
  }
 ],
 "metadata": {
  "colab": {
   "name": "Copy of assignment_1_ex.ipynb",
   "provenance": []
  },
  "kernelspec": {
   "display_name": "Python 3",
   "language": "python",
   "name": "python3"
  },
  "language_info": {
   "codemirror_mode": {
    "name": "ipython",
    "version": 3
   },
   "file_extension": ".py",
   "mimetype": "text/x-python",
   "name": "python",
   "nbconvert_exporter": "python",
   "pygments_lexer": "ipython3",
   "version": "3.8.3"
  }
 },
 "nbformat": 4,
 "nbformat_minor": 1
}
